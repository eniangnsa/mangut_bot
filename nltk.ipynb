{
 "cells": [
  {
   "cell_type": "code",
   "execution_count": 2,
   "metadata": {},
   "outputs": [
    {
     "name": "stderr",
     "output_type": "stream",
     "text": [
      "/var/folders/y5/5kc5fqvn2tncnl_868zg4zhr0000gn/T/ipykernel_98305/4080736814.py:1: DeprecationWarning: \n",
      "Pyarrow will become a required dependency of pandas in the next major release of pandas (pandas 3.0),\n",
      "(to allow more performant data types, such as the Arrow string type, and better interoperability with other libraries)\n",
      "but was not found to be installed on your system.\n",
      "If this would cause problems for you,\n",
      "please provide us feedback at https://github.com/pandas-dev/pandas/issues/54466\n",
      "        \n",
      "  import pandas as pd\n"
     ]
    }
   ],
   "source": [
    "import pandas as pd"
   ]
  },
  {
   "cell_type": "code",
   "execution_count": 3,
   "metadata": {},
   "outputs": [],
   "source": [
    "df = pd.read_json('News_Category_Dataset.json', lines=True)"
   ]
  },
  {
   "cell_type": "code",
   "execution_count": 4,
   "metadata": {},
   "outputs": [
    {
     "data": {
      "text/html": [
       "<div>\n",
       "<style scoped>\n",
       "    .dataframe tbody tr th:only-of-type {\n",
       "        vertical-align: middle;\n",
       "    }\n",
       "\n",
       "    .dataframe tbody tr th {\n",
       "        vertical-align: top;\n",
       "    }\n",
       "\n",
       "    .dataframe thead th {\n",
       "        text-align: right;\n",
       "    }\n",
       "</style>\n",
       "<table border=\"1\" class=\"dataframe\">\n",
       "  <thead>\n",
       "    <tr style=\"text-align: right;\">\n",
       "      <th></th>\n",
       "      <th>short_description</th>\n",
       "      <th>headline</th>\n",
       "      <th>date</th>\n",
       "      <th>link</th>\n",
       "      <th>authors</th>\n",
       "      <th>category</th>\n",
       "    </tr>\n",
       "  </thead>\n",
       "  <tbody>\n",
       "    <tr>\n",
       "      <th>0</th>\n",
       "      <td>She left her husband. He killed their children...</td>\n",
       "      <td>There Were 2 Mass Shootings In Texas Last Week...</td>\n",
       "      <td>2018-05-26</td>\n",
       "      <td>https://www.huffingtonpost.com/entry/texas-ama...</td>\n",
       "      <td>Melissa Jeltsen</td>\n",
       "      <td>CRIME</td>\n",
       "    </tr>\n",
       "    <tr>\n",
       "      <th>1</th>\n",
       "      <td>Of course it has a song.</td>\n",
       "      <td>Will Smith Joins Diplo And Nicky Jam For The 2...</td>\n",
       "      <td>2018-05-26</td>\n",
       "      <td>https://www.huffingtonpost.com/entry/will-smit...</td>\n",
       "      <td>Andy McDonald</td>\n",
       "      <td>ENTERTAINMENT</td>\n",
       "    </tr>\n",
       "    <tr>\n",
       "      <th>2</th>\n",
       "      <td>The actor and his longtime girlfriend Anna Ebe...</td>\n",
       "      <td>Hugh Grant Marries For The First Time At Age 57</td>\n",
       "      <td>2018-05-26</td>\n",
       "      <td>https://www.huffingtonpost.com/entry/hugh-gran...</td>\n",
       "      <td>Ron Dicker</td>\n",
       "      <td>ENTERTAINMENT</td>\n",
       "    </tr>\n",
       "    <tr>\n",
       "      <th>3</th>\n",
       "      <td>The actor gives Dems an ass-kicking for not fi...</td>\n",
       "      <td>Jim Carrey Blasts 'Castrato' Adam Schiff And D...</td>\n",
       "      <td>2018-05-26</td>\n",
       "      <td>https://www.huffingtonpost.com/entry/jim-carre...</td>\n",
       "      <td>Ron Dicker</td>\n",
       "      <td>ENTERTAINMENT</td>\n",
       "    </tr>\n",
       "    <tr>\n",
       "      <th>4</th>\n",
       "      <td>The \"Dietland\" actress said using the bags is ...</td>\n",
       "      <td>Julianna Margulies Uses Donald Trump Poop Bags...</td>\n",
       "      <td>2018-05-26</td>\n",
       "      <td>https://www.huffingtonpost.com/entry/julianna-...</td>\n",
       "      <td>Ron Dicker</td>\n",
       "      <td>ENTERTAINMENT</td>\n",
       "    </tr>\n",
       "  </tbody>\n",
       "</table>\n",
       "</div>"
      ],
      "text/plain": [
       "                                   short_description  \\\n",
       "0  She left her husband. He killed their children...   \n",
       "1                           Of course it has a song.   \n",
       "2  The actor and his longtime girlfriend Anna Ebe...   \n",
       "3  The actor gives Dems an ass-kicking for not fi...   \n",
       "4  The \"Dietland\" actress said using the bags is ...   \n",
       "\n",
       "                                            headline       date  \\\n",
       "0  There Were 2 Mass Shootings In Texas Last Week... 2018-05-26   \n",
       "1  Will Smith Joins Diplo And Nicky Jam For The 2... 2018-05-26   \n",
       "2    Hugh Grant Marries For The First Time At Age 57 2018-05-26   \n",
       "3  Jim Carrey Blasts 'Castrato' Adam Schiff And D... 2018-05-26   \n",
       "4  Julianna Margulies Uses Donald Trump Poop Bags... 2018-05-26   \n",
       "\n",
       "                                                link          authors  \\\n",
       "0  https://www.huffingtonpost.com/entry/texas-ama...  Melissa Jeltsen   \n",
       "1  https://www.huffingtonpost.com/entry/will-smit...    Andy McDonald   \n",
       "2  https://www.huffingtonpost.com/entry/hugh-gran...       Ron Dicker   \n",
       "3  https://www.huffingtonpost.com/entry/jim-carre...       Ron Dicker   \n",
       "4  https://www.huffingtonpost.com/entry/julianna-...       Ron Dicker   \n",
       "\n",
       "        category  \n",
       "0          CRIME  \n",
       "1  ENTERTAINMENT  \n",
       "2  ENTERTAINMENT  \n",
       "3  ENTERTAINMENT  \n",
       "4  ENTERTAINMENT  "
      ]
     },
     "execution_count": 4,
     "metadata": {},
     "output_type": "execute_result"
    }
   ],
   "source": [
    "df.head()"
   ]
  },
  {
   "cell_type": "code",
   "execution_count": 5,
   "metadata": {},
   "outputs": [
    {
     "data": {
      "text/plain": [
       "(124989, 6)"
      ]
     },
     "execution_count": 5,
     "metadata": {},
     "output_type": "execute_result"
    }
   ],
   "source": [
    "df.shape"
   ]
  },
  {
   "cell_type": "code",
   "execution_count": 6,
   "metadata": {},
   "outputs": [
    {
     "name": "stdout",
     "output_type": "stream",
     "text": [
      "<class 'pandas.core.frame.DataFrame'>\n",
      "Index: 124989 entries, 0 to 124988\n",
      "Data columns (total 6 columns):\n",
      " #   Column             Non-Null Count   Dtype         \n",
      "---  ------             --------------   -----         \n",
      " 0   short_description  124989 non-null  object        \n",
      " 1   headline           124989 non-null  object        \n",
      " 2   date               124989 non-null  datetime64[ns]\n",
      " 3   link               124989 non-null  object        \n",
      " 4   authors            124989 non-null  object        \n",
      " 5   category           124989 non-null  object        \n",
      "dtypes: datetime64[ns](1), object(5)\n",
      "memory usage: 6.7+ MB\n"
     ]
    }
   ],
   "source": [
    "df.info()"
   ]
  },
  {
   "cell_type": "code",
   "execution_count": 7,
   "metadata": {},
   "outputs": [
    {
     "data": {
      "text/plain": [
       "category\n",
       "POLITICS          32739\n",
       "ENTERTAINMENT     14257\n",
       "HEALTHY LIVING     6694\n",
       "QUEER VOICES       4995\n",
       "BUSINESS           4254\n",
       "SPORTS             4167\n",
       "COMEDY             3971\n",
       "PARENTS            3955\n",
       "BLACK VOICES       3858\n",
       "THE WORLDPOST      3664\n",
       "WOMEN              3490\n",
       "CRIME              2893\n",
       "MEDIA              2815\n",
       "WEIRD NEWS         2670\n",
       "GREEN              2622\n",
       "IMPACT             2602\n",
       "WORLDPOST          2579\n",
       "RELIGION           2556\n",
       "STYLE              2254\n",
       "WORLD NEWS         2177\n",
       "TRAVEL             2145\n",
       "TASTE              2096\n",
       "ARTS               1509\n",
       "FIFTY              1401\n",
       "GOOD NEWS          1398\n",
       "Name: count, dtype: int64"
      ]
     },
     "execution_count": 7,
     "metadata": {},
     "output_type": "execute_result"
    }
   ],
   "source": [
    "df.category.value_counts()[:25]"
   ]
  },
  {
   "cell_type": "code",
   "execution_count": 8,
   "metadata": {},
   "outputs": [],
   "source": [
    "min_sample = 3971\n",
    "\n",
    "df_politics = df[df.category == 'POLITICS'].sample(min_sample, random_state=42)\n",
    "df_entertainment = df[df.category == 'ENTERTAINMENT'].sample(min_sample, random_state=42)\n",
    "df_health = df[df.category == 'HEALTHY LIVING'].sample(min_sample, random_state=42)\n",
    "df_queer = df[df.category == 'QUEER VOICES'].sample(min_sample, random_state=42)\n",
    "df_business = df[df.category == 'BUSINESS'].sample(min_sample, random_state=42)\n",
    "df_sport = df[df.category == 'SPORTS'].sample(min_sample, random_state=42)\n",
    "df_comedy = df[df.category == 'COMEDY'].sample(min_sample, random_state=42)"
   ]
  },
  {
   "cell_type": "code",
   "execution_count": 9,
   "metadata": {},
   "outputs": [
    {
     "data": {
      "text/html": [
       "<div>\n",
       "<style scoped>\n",
       "    .dataframe tbody tr th:only-of-type {\n",
       "        vertical-align: middle;\n",
       "    }\n",
       "\n",
       "    .dataframe tbody tr th {\n",
       "        vertical-align: top;\n",
       "    }\n",
       "\n",
       "    .dataframe thead th {\n",
       "        text-align: right;\n",
       "    }\n",
       "</style>\n",
       "<table border=\"1\" class=\"dataframe\">\n",
       "  <thead>\n",
       "    <tr style=\"text-align: right;\">\n",
       "      <th></th>\n",
       "      <th>short_description</th>\n",
       "      <th>headline</th>\n",
       "      <th>date</th>\n",
       "      <th>link</th>\n",
       "      <th>authors</th>\n",
       "      <th>category</th>\n",
       "    </tr>\n",
       "  </thead>\n",
       "  <tbody>\n",
       "    <tr>\n",
       "      <th>16076</th>\n",
       "      <td>A mass email told customers they'd received a ...</td>\n",
       "      <td>Surprise! Amazon Seems To Think You're Pregnant</td>\n",
       "      <td>2017-09-20</td>\n",
       "      <td>https://www.huffingtonpost.com/entry/amazon-ba...</td>\n",
       "      <td>Dominique Mosbergen</td>\n",
       "      <td>BUSINESS</td>\n",
       "    </tr>\n",
       "    <tr>\n",
       "      <th>58951</th>\n",
       "      <td>The #SleepRevolution has arrived at your desk.</td>\n",
       "      <td>Why Major Corporations Now Realize They Can't ...</td>\n",
       "      <td>2016-05-12</td>\n",
       "      <td>https://www.huffingtonpost.com/entry/corporati...</td>\n",
       "      <td>Suzy Strutner</td>\n",
       "      <td>BUSINESS</td>\n",
       "    </tr>\n",
       "    <tr>\n",
       "      <th>95552</th>\n",
       "      <td>Internet of Things, big data, social media, an...</td>\n",
       "      <td>Here's How the Internet of Things Will Impact ...</td>\n",
       "      <td>2015-03-23</td>\n",
       "      <td>https://www.huffingtonpost.com/entry/heres-how...</td>\n",
       "      <td>Beverly Macy, ContributorAuthor, Educator, Spe...</td>\n",
       "      <td>BUSINESS</td>\n",
       "    </tr>\n",
       "    <tr>\n",
       "      <th>111688</th>\n",
       "      <td></td>\n",
       "      <td>Here's How Unfair The Tax System Is In Each State</td>\n",
       "      <td>2014-09-18</td>\n",
       "      <td>https://www.huffingtonpost.com/entry/fair-taxe...</td>\n",
       "      <td>Kevin Short</td>\n",
       "      <td>BUSINESS</td>\n",
       "    </tr>\n",
       "    <tr>\n",
       "      <th>44072</th>\n",
       "      <td>Uber will appeal the decision.</td>\n",
       "      <td>Uber Should Pay Drivers Minimum Wage, UK Court...</td>\n",
       "      <td>2016-10-28</td>\n",
       "      <td>https://www.huffingtonpost.com/entry/uber-uk-m...</td>\n",
       "      <td>Costas Pitas, Reuters</td>\n",
       "      <td>BUSINESS</td>\n",
       "    </tr>\n",
       "  </tbody>\n",
       "</table>\n",
       "</div>"
      ],
      "text/plain": [
       "                                        short_description  \\\n",
       "16076   A mass email told customers they'd received a ...   \n",
       "58951      The #SleepRevolution has arrived at your desk.   \n",
       "95552   Internet of Things, big data, social media, an...   \n",
       "111688                                                      \n",
       "44072                      Uber will appeal the decision.   \n",
       "\n",
       "                                                 headline       date  \\\n",
       "16076     Surprise! Amazon Seems To Think You're Pregnant 2017-09-20   \n",
       "58951   Why Major Corporations Now Realize They Can't ... 2016-05-12   \n",
       "95552   Here's How the Internet of Things Will Impact ... 2015-03-23   \n",
       "111688  Here's How Unfair The Tax System Is In Each State 2014-09-18   \n",
       "44072   Uber Should Pay Drivers Minimum Wage, UK Court... 2016-10-28   \n",
       "\n",
       "                                                     link  \\\n",
       "16076   https://www.huffingtonpost.com/entry/amazon-ba...   \n",
       "58951   https://www.huffingtonpost.com/entry/corporati...   \n",
       "95552   https://www.huffingtonpost.com/entry/heres-how...   \n",
       "111688  https://www.huffingtonpost.com/entry/fair-taxe...   \n",
       "44072   https://www.huffingtonpost.com/entry/uber-uk-m...   \n",
       "\n",
       "                                                  authors  category  \n",
       "16076                                 Dominique Mosbergen  BUSINESS  \n",
       "58951                                       Suzy Strutner  BUSINESS  \n",
       "95552   Beverly Macy, ContributorAuthor, Educator, Spe...  BUSINESS  \n",
       "111688                                        Kevin Short  BUSINESS  \n",
       "44072                               Costas Pitas, Reuters  BUSINESS  "
      ]
     },
     "execution_count": 9,
     "metadata": {},
     "output_type": "execute_result"
    }
   ],
   "source": [
    "df_balanced = pd.concat([df_business, df_entertainment, df_comedy, df_health, df_politics,\n",
    "           df_queer, df_sport],axis=0)\n",
    "df_balanced.head()"
   ]
  },
  {
   "cell_type": "markdown",
   "metadata": {},
   "source": [
    "What i did in the previous lines of code was to deal with the problem of class imbalance by undersampling."
   ]
  },
  {
   "cell_type": "code",
   "execution_count": 10,
   "metadata": {},
   "outputs": [
    {
     "data": {
      "text/plain": [
       "category\n",
       "BUSINESS          3971\n",
       "ENTERTAINMENT     3971\n",
       "COMEDY            3971\n",
       "HEALTHY LIVING    3971\n",
       "POLITICS          3971\n",
       "QUEER VOICES      3971\n",
       "SPORTS            3971\n",
       "Name: count, dtype: int64"
      ]
     },
     "execution_count": 10,
     "metadata": {},
     "output_type": "execute_result"
    }
   ],
   "source": [
    "df_balanced.category.value_counts()"
   ]
  },
  {
   "cell_type": "code",
   "execution_count": 11,
   "metadata": {},
   "outputs": [],
   "source": [
    "targets = {'BUSINESS':0, 'ENTERTAINMENT':1, 'COMEDY':2,\n",
    "           'HEALTHY LIVING':3, 'POLITICS':4, 'QUEER VOICES':5, 'SPORTS':6}"
   ]
  },
  {
   "cell_type": "code",
   "execution_count": 12,
   "metadata": {},
   "outputs": [
    {
     "data": {
      "text/html": [
       "<div>\n",
       "<style scoped>\n",
       "    .dataframe tbody tr th:only-of-type {\n",
       "        vertical-align: middle;\n",
       "    }\n",
       "\n",
       "    .dataframe tbody tr th {\n",
       "        vertical-align: top;\n",
       "    }\n",
       "\n",
       "    .dataframe thead th {\n",
       "        text-align: right;\n",
       "    }\n",
       "</style>\n",
       "<table border=\"1\" class=\"dataframe\">\n",
       "  <thead>\n",
       "    <tr style=\"text-align: right;\">\n",
       "      <th></th>\n",
       "      <th>short_description</th>\n",
       "      <th>headline</th>\n",
       "      <th>date</th>\n",
       "      <th>link</th>\n",
       "      <th>authors</th>\n",
       "      <th>category</th>\n",
       "      <th>new_category</th>\n",
       "    </tr>\n",
       "  </thead>\n",
       "  <tbody>\n",
       "    <tr>\n",
       "      <th>79891</th>\n",
       "      <td>🙆</td>\n",
       "      <td>Jessica Simpson's HSN Appearance Has Some Scra...</td>\n",
       "      <td>2015-09-18</td>\n",
       "      <td>https://www.huffingtonpost.com/entry/jessica-s...</td>\n",
       "      <td>Cavan Sieczkowski</td>\n",
       "      <td>ENTERTAINMENT</td>\n",
       "      <td>1</td>\n",
       "    </tr>\n",
       "    <tr>\n",
       "      <th>35425</th>\n",
       "      <td>\"Trying 2 keep in check bc damnit I love u Ame...</td>\n",
       "      <td>Sarah Silverman Walks Back Tweet Urging Milita...</td>\n",
       "      <td>2017-02-03</td>\n",
       "      <td>https://www.huffingtonpost.com/entry/sarah-sil...</td>\n",
       "      <td>Ron Dicker</td>\n",
       "      <td>ENTERTAINMENT</td>\n",
       "      <td>1</td>\n",
       "    </tr>\n",
       "    <tr>\n",
       "      <th>25798</th>\n",
       "      <td>Please drink and dance responsibly.</td>\n",
       "      <td>'How To Dance While Holding A Drink' Is Both A...</td>\n",
       "      <td>2017-05-24</td>\n",
       "      <td>https://www.huffingtonpost.com/entry/how-to-da...</td>\n",
       "      <td>Andy McDonald</td>\n",
       "      <td>COMEDY</td>\n",
       "      <td>2</td>\n",
       "    </tr>\n",
       "    <tr>\n",
       "      <th>74178</th>\n",
       "      <td>He took his dad to school.</td>\n",
       "      <td>Stephen Curry Is Way Better Than His Dad At Pl...</td>\n",
       "      <td>2015-11-20</td>\n",
       "      <td>https://www.huffingtonpost.com/entry/stephen-c...</td>\n",
       "      <td>Erick Fernandez</td>\n",
       "      <td>SPORTS</td>\n",
       "      <td>6</td>\n",
       "    </tr>\n",
       "    <tr>\n",
       "      <th>88754</th>\n",
       "      <td>A sport is \"a contest or a game in which peopl...</td>\n",
       "      <td>Caitlyn Jenner and ESPN's Arthur Ashe Award</td>\n",
       "      <td>2015-06-09</td>\n",
       "      <td>https://www.huffingtonpost.com/entry/caitlyn-j...</td>\n",
       "      <td>Ingrid Vasquez, ContributorFreelance Writer</td>\n",
       "      <td>SPORTS</td>\n",
       "      <td>6</td>\n",
       "    </tr>\n",
       "  </tbody>\n",
       "</table>\n",
       "</div>"
      ],
      "text/plain": [
       "                                       short_description  \\\n",
       "79891                                                  🙆   \n",
       "35425  \"Trying 2 keep in check bc damnit I love u Ame...   \n",
       "25798                Please drink and dance responsibly.   \n",
       "74178                         He took his dad to school.   \n",
       "88754  A sport is \"a contest or a game in which peopl...   \n",
       "\n",
       "                                                headline       date  \\\n",
       "79891  Jessica Simpson's HSN Appearance Has Some Scra... 2015-09-18   \n",
       "35425  Sarah Silverman Walks Back Tweet Urging Milita... 2017-02-03   \n",
       "25798  'How To Dance While Holding A Drink' Is Both A... 2017-05-24   \n",
       "74178  Stephen Curry Is Way Better Than His Dad At Pl... 2015-11-20   \n",
       "88754        Caitlyn Jenner and ESPN's Arthur Ashe Award 2015-06-09   \n",
       "\n",
       "                                                    link  \\\n",
       "79891  https://www.huffingtonpost.com/entry/jessica-s...   \n",
       "35425  https://www.huffingtonpost.com/entry/sarah-sil...   \n",
       "25798  https://www.huffingtonpost.com/entry/how-to-da...   \n",
       "74178  https://www.huffingtonpost.com/entry/stephen-c...   \n",
       "88754  https://www.huffingtonpost.com/entry/caitlyn-j...   \n",
       "\n",
       "                                           authors       category  \\\n",
       "79891                            Cavan Sieczkowski  ENTERTAINMENT   \n",
       "35425                                   Ron Dicker  ENTERTAINMENT   \n",
       "25798                                Andy McDonald         COMEDY   \n",
       "74178                              Erick Fernandez         SPORTS   \n",
       "88754  Ingrid Vasquez, ContributorFreelance Writer         SPORTS   \n",
       "\n",
       "       new_category  \n",
       "79891             1  \n",
       "35425             1  \n",
       "25798             2  \n",
       "74178             6  \n",
       "88754             6  "
      ]
     },
     "execution_count": 12,
     "metadata": {},
     "output_type": "execute_result"
    }
   ],
   "source": [
    "df_balanced['new_category'] = df_balanced.category.map(targets)\n",
    "df_balanced.sample(5)"
   ]
  },
  {
   "cell_type": "code",
   "execution_count": 39,
   "metadata": {},
   "outputs": [],
   "source": [
    "from sklearn.model_selection import train_test_split\n",
    "\n",
    "X_train, X_test, y_train, y_test = train_test_split(\n",
    "    df_balanced.short_description,\n",
    "                     df_balanced.new_category,\n",
    "                     test_size = 0.2,\n",
    "                     random_state=42,\n",
    "                     stratify = df_balanced.new_category)\n"
   ]
  },
  {
   "cell_type": "code",
   "execution_count": 14,
   "metadata": {},
   "outputs": [
    {
     "data": {
      "text/plain": [
       "new_category\n",
       "1    3177\n",
       "5    3177\n",
       "0    3177\n",
       "4    3177\n",
       "2    3177\n",
       "6    3176\n",
       "3    3176\n",
       "Name: count, dtype: int64"
      ]
     },
     "execution_count": 14,
     "metadata": {},
     "output_type": "execute_result"
    }
   ],
   "source": [
    "y_train.value_counts()"
   ]
  },
  {
   "cell_type": "markdown",
   "metadata": {},
   "source": [
    "let's build our model. we're going  to be using a pipeline for this"
   ]
  },
  {
   "cell_type": "code",
   "execution_count": 17,
   "metadata": {},
   "outputs": [],
   "source": [
    "from sklearn.naive_bayes import MultinomialNB\n",
    "from sklearn.pipeline import Pipeline\n",
    "from sklearn.metrics import classification_report\n",
    "from sklearn.feature_extraction.text import CountVectorizer"
   ]
  },
  {
   "cell_type": "code",
   "execution_count": 18,
   "metadata": {},
   "outputs": [
    {
     "name": "stdout",
     "output_type": "stream",
     "text": [
      "              precision    recall  f1-score   support\n",
      "\n",
      "           0       0.34      0.73      0.46       794\n",
      "           1       0.59      0.31      0.41       794\n",
      "           2       0.47      0.24      0.32       794\n",
      "           3       0.44      0.60      0.51       795\n",
      "           4       0.56      0.57      0.56       794\n",
      "           5       0.56      0.45      0.50       794\n",
      "           6       0.69      0.44      0.53       795\n",
      "\n",
      "    accuracy                           0.48      5560\n",
      "   macro avg       0.52      0.48      0.47      5560\n",
      "weighted avg       0.52      0.48      0.47      5560\n",
      "\n"
     ]
    }
   ],
   "source": [
    "clf = Pipeline([\n",
    "    ('vectorizer_bow', CountVectorizer()),\n",
    "    ('Naives Bayes', MultinomialNB())\n",
    "])\n",
    "\n",
    "clf.fit(X_train, y_train)\n",
    "y_pred = clf.predict(X_test)\n",
    "print(classification_report(y_test, y_pred))"
   ]
  },
  {
   "cell_type": "code",
   "execution_count": 19,
   "metadata": {},
   "outputs": [
    {
     "name": "stdout",
     "output_type": "stream",
     "text": [
      "              precision    recall  f1-score   support\n",
      "\n",
      "           0       0.30      0.76      0.43       794\n",
      "           1       0.65      0.23      0.34       794\n",
      "           2       0.56      0.14      0.23       794\n",
      "           3       0.40      0.61      0.48       795\n",
      "           4       0.53      0.55      0.54       794\n",
      "           5       0.52      0.45      0.48       794\n",
      "           6       0.72      0.36      0.48       795\n",
      "\n",
      "    accuracy                           0.44      5560\n",
      "   macro avg       0.53      0.44      0.43      5560\n",
      "weighted avg       0.53      0.44      0.43      5560\n",
      "\n"
     ]
    }
   ],
   "source": [
    "clf = Pipeline([\n",
    "    ('vectorizer_bow', CountVectorizer(ngram_range=(1,2))),\n",
    "    ('Naives Bayes', MultinomialNB())\n",
    "])\n",
    "\n",
    "clf.fit(X_train, y_train)\n",
    "y_pred = clf.predict(X_test)\n",
    "print(classification_report(y_test, y_pred))"
   ]
  },
  {
   "cell_type": "code",
   "execution_count": 20,
   "metadata": {},
   "outputs": [
    {
     "name": "stdout",
     "output_type": "stream",
     "text": [
      "              precision    recall  f1-score   support\n",
      "\n",
      "           0       0.29      0.76      0.42       794\n",
      "           1       0.66      0.19      0.30       794\n",
      "           2       0.55      0.12      0.19       794\n",
      "           3       0.39      0.59      0.47       795\n",
      "           4       0.51      0.53      0.52       794\n",
      "           5       0.51      0.44      0.48       794\n",
      "           6       0.72      0.34      0.46       795\n",
      "\n",
      "    accuracy                           0.42      5560\n",
      "   macro avg       0.52      0.42      0.41      5560\n",
      "weighted avg       0.52      0.42      0.41      5560\n",
      "\n"
     ]
    }
   ],
   "source": [
    "clf = Pipeline([\n",
    "    ('vectorizer_bow', CountVectorizer(ngram_range=(1,3))),\n",
    "    ('Naives Bayes', MultinomialNB())\n",
    "])\n",
    "\n",
    "clf.fit(X_train, y_train)\n",
    "y_pred = clf.predict(X_test)\n",
    "print(classification_report(y_test, y_pred))"
   ]
  },
  {
   "cell_type": "code",
   "execution_count": 30,
   "metadata": {},
   "outputs": [],
   "source": [
    "import spacy\n",
    "nlp = spacy.load('en_core_web_sm')\n",
    "\n",
    "def preprocess(text):\n",
    "    doc = nlp(text)\n",
    "    \n",
    "    filtered_tokens = []\n",
    "    \n",
    "    for token in doc:\n",
    "        if not token.is_stop and not token.is_punct:\n",
    "            filtered_tokens.append(token.lemma_)\n",
    "    return \" \".join(filtered_tokens)"
   ]
  },
  {
   "cell_type": "code",
   "execution_count": 32,
   "metadata": {},
   "outputs": [],
   "source": [
    "df_balanced['processed_text'] = df_balanced.short_description.apply(preprocess)"
   ]
  },
  {
   "cell_type": "markdown",
   "metadata": {},
   "source": [
    "now i am going to build the model with the preprocessed text and compare the results\n"
   ]
  },
  {
   "cell_type": "code",
   "execution_count": 33,
   "metadata": {},
   "outputs": [],
   "source": [
    "X_train, X_test, y_train, y_test = train_test_split(\n",
    "    df_balanced.processed_text,\n",
    "                     df_balanced.new_category,\n",
    "                     test_size = 0.2,\n",
    "                     random_state=42,\n",
    "                     stratify = df_balanced.new_category)"
   ]
  },
  {
   "cell_type": "code",
   "execution_count": 34,
   "metadata": {},
   "outputs": [
    {
     "name": "stdout",
     "output_type": "stream",
     "text": [
      "              precision    recall  f1-score   support\n",
      "\n",
      "           0       0.34      0.75      0.47       794\n",
      "           1       0.56      0.34      0.42       794\n",
      "           2       0.44      0.23      0.30       794\n",
      "           3       0.49      0.57      0.53       795\n",
      "           4       0.57      0.59      0.58       794\n",
      "           5       0.58      0.47      0.52       794\n",
      "           6       0.71      0.46      0.56       795\n",
      "\n",
      "    accuracy                           0.49      5560\n",
      "   macro avg       0.53      0.49      0.48      5560\n",
      "weighted avg       0.53      0.49      0.48      5560\n",
      "\n"
     ]
    }
   ],
   "source": [
    "clf = Pipeline([\n",
    "    ('vectorizer_bow', CountVectorizer()),\n",
    "    ('Naives Bayes', MultinomialNB())\n",
    "])\n",
    "\n",
    "clf.fit(X_train, y_train)\n",
    "y_pred = clf.predict(X_test)\n",
    "print(classification_report(y_test, y_pred))"
   ]
  },
  {
   "cell_type": "markdown",
   "metadata": {},
   "source": [
    "There's no noticeable improvement in our new model. i think one of the limitation could come from the fact that the single column i am using does not contain enough distinguishing information."
   ]
  },
  {
   "cell_type": "code",
   "execution_count": null,
   "metadata": {},
   "outputs": [],
   "source": []
  }
 ],
 "metadata": {
  "kernelspec": {
   "display_name": "bobenv1",
   "language": "python",
   "name": "python3"
  },
  "language_info": {
   "codemirror_mode": {
    "name": "ipython",
    "version": 3
   },
   "file_extension": ".py",
   "mimetype": "text/x-python",
   "name": "python",
   "nbconvert_exporter": "python",
   "pygments_lexer": "ipython3",
   "version": "3.11.5"
  }
 },
 "nbformat": 4,
 "nbformat_minor": 2
}
